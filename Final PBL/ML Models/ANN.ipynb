{
 "cells": [
  {
   "cell_type": "code",
   "execution_count": 19,
   "id": "d2940176",
   "metadata": {},
   "outputs": [],
   "source": [
    "import pandas as pd\n",
    "from keras_tuner.tuners import RandomSearch\n",
    "from keras import Sequential,layers\n",
    "from keras.layers import Dense"
   ]
  },
  {
   "cell_type": "code",
   "execution_count": 20,
   "id": "6dc5420c",
   "metadata": {},
   "outputs": [],
   "source": [
    "train_df = pd.read_csv(r'Data\\Training.csv')\n",
    "train_df\n",
    "train_df.drop(['Unnamed: 133'],axis='columns',inplace=True)\n",
    "\n",
    "test_df = pd.read_csv(r'Data\\Testing.csv')"
   ]
  },
  {
   "cell_type": "code",
   "execution_count": 21,
   "id": "788794e4",
   "metadata": {},
   "outputs": [],
   "source": [
    "from sklearn.preprocessing import LabelEncoder\n",
    "\n",
    "Encoder  = LabelEncoder()\n",
    "train_df['prognosis'] = Encoder.fit_transform(train_df['prognosis'])\n",
    "\n",
    "# import tensorflow as tf\n",
    "\n",
    "# feature_columns = []\n",
    "# feature_name = 'prognosis'\n",
    "# vocabulary = train_df[feature_name].unique()\n",
    "# feature_columns.append(tf.feature_column.categorical_column_with_vocabulary_list(feature_name, vocabulary))"
   ]
  },
  {
   "cell_type": "code",
   "execution_count": 22,
   "id": "598d1eaf",
   "metadata": {},
   "outputs": [],
   "source": [
    "X=train_df.iloc[1:,:-1] \n",
    "y=train_df.iloc[1:,-1]\n",
    "\n",
    "X_test=test_df.iloc[1:,:-1] \n",
    "y_test=test_df.iloc[1:,-1]"
   ]
  },
  {
   "cell_type": "code",
   "execution_count": 23,
   "id": "e2f45630",
   "metadata": {},
   "outputs": [],
   "source": [
    "import tensorflow as tf\n",
    "def build_model(hp):\n",
    "    model = keras.Sequential()\n",
    "    for i in range(hp.Int('num_layers', 2, 20)):\n",
    "        model.add(layers.Dense(units=hp.Int('units_' + str(i),\n",
    "                                            min_value=32,\n",
    "                                            max_value=512,\n",
    "                                            step=32),\n",
    "                               activation='relu'))\n",
    "    model.add(layers.Dense(1, activation='linear'))\n",
    "    model.compile(\n",
    "        optimizer=keras.optimizers.Adam(\n",
    "            hp.Choice('learning_rate', [1e-2, 1e-3, 1e-4])),\n",
    "        loss=tf.keras.losses.BinaryCrossentropy(\n",
    "    from_logits=False,\n",
    "    label_smoothing=0.0,\n",
    "    axis=-1,\n",
    "    reduction=\"auto\",\n",
    "    name=\"binary_crossentropy\",\n",
    "),\n",
    "        metrics=['accuracy'])\n",
    "    return model"
   ]
  },
  {
   "cell_type": "code",
   "execution_count": 25,
   "id": "e0f9229e",
   "metadata": {},
   "outputs": [],
   "source": [
    "# tuner = RandomSearch(\n",
    "#     build_model,\n",
    "#     objective='accuracy',\n",
    "#     max_trials=5,\n",
    "#     executions_per_trial=3,\n",
    "#     directory='project',\n",
    "#     )"
   ]
  },
  {
   "cell_type": "code",
   "execution_count": 27,
   "id": "2fc4973d",
   "metadata": {},
   "outputs": [],
   "source": [
    "#tuner.search_space_summary()"
   ]
  },
  {
   "cell_type": "code",
   "execution_count": 28,
   "id": "0babf357",
   "metadata": {},
   "outputs": [],
   "source": [
    "# tuner.search(X, y,\n",
    "#              epochs=5,\n",
    "#              validation_data=(X_test, y_test))"
   ]
  },
  {
   "cell_type": "code",
   "execution_count": 30,
   "id": "15a0739f",
   "metadata": {},
   "outputs": [
    {
     "name": "stdout",
     "output_type": "stream",
     "text": [
      "Epoch 1/10\n",
      "492/492 [==============================] - 1s 2ms/step - loss: -5872.7471 - accuracy: 0.0244\n",
      "Epoch 2/10\n",
      "492/492 [==============================] - 1s 1ms/step - loss: -170897.1250 - accuracy: 0.0244\n",
      "Epoch 3/10\n",
      "492/492 [==============================] - 1s 1ms/step - loss: -1109151.0000 - accuracy: 0.0244\n",
      "Epoch 4/10\n",
      "492/492 [==============================] - 1s 1ms/step - loss: -3854650.7500 - accuracy: 0.0244\n",
      "Epoch 5/10\n",
      "492/492 [==============================] - 1s 1ms/step - loss: -9996664.0000 - accuracy: 0.0244\n",
      "Epoch 6/10\n",
      "492/492 [==============================] - 1s 1ms/step - loss: -21451458.0000 - accuracy: 0.0244\n",
      "Epoch 7/10\n",
      "492/492 [==============================] - 1s 1ms/step - loss: -40672084.0000 - accuracy: 0.0244\n",
      "Epoch 8/10\n",
      "492/492 [==============================] - 1s 1ms/step - loss: -70656256.0000 - accuracy: 0.0244\n",
      "Epoch 9/10\n",
      "492/492 [==============================] - 1s 2ms/step - loss: -114640568.0000 - accuracy: 0.0244\n",
      "Epoch 10/10\n",
      "492/492 [==============================] - 1s 2ms/step - loss: -178420736.0000 - accuracy: 0.0244\n",
      "dict_keys(['loss', 'accuracy'])\n"
     ]
    }
   ],
   "source": [
    "classifier = Sequential()\n",
    "\n",
    "# Adding the input layer and the first hidden layer\n",
    "classifier.add(Dense(units= 64, kernel_initializer = 'glorot_uniform',activation='relu',input_dim = 132))\n",
    "\n",
    "# Adding the second hidden layer\n",
    "classifier.add(Dense(units =32, kernel_initializer = 'he_uniform',activation='relu'))\n",
    "classifier.add(Dense(units =32, kernel_initializer = 'he_uniform',activation='relu'))\n",
    "# Adding the output layer\n",
    "classifier.add(Dense(units =1, kernel_initializer = 'glorot_uniform', activation = 'softmax'))\n",
    "\n",
    "# Compiling the ANN\n",
    "classifier.compile(optimizer = 'Adamax', loss = 'binary_crossentropy', metrics = ['accuracy'])\n",
    "\n",
    "# Fitting the ANN to the Training set\n",
    "model_history=classifier.fit(X, y, batch_size = 10, epochs = 10)\n",
    "\n",
    "# list all data in history\n",
    "\n",
    "print(model_history.history.keys())\n",
    "\n"
   ]
  },
  {
   "cell_type": "code",
   "execution_count": null,
   "id": "7d09731b",
   "metadata": {},
   "outputs": [
    {
     "data": {
      "text/plain": [
       "dtype('int32')"
      ]
     },
     "execution_count": 51,
     "metadata": {},
     "output_type": "execute_result"
    }
   ],
   "source": []
  },
  {
   "cell_type": "code",
   "execution_count": null,
   "id": "a5767dd6",
   "metadata": {},
   "outputs": [],
   "source": []
  }
 ],
 "metadata": {
  "kernelspec": {
   "display_name": "Python 3 (ipykernel)",
   "language": "python",
   "name": "python3"
  },
  "language_info": {
   "codemirror_mode": {
    "name": "ipython",
    "version": 3
   },
   "file_extension": ".py",
   "mimetype": "text/x-python",
   "name": "python",
   "nbconvert_exporter": "python",
   "pygments_lexer": "ipython3",
   "version": "3.9.7"
  }
 },
 "nbformat": 4,
 "nbformat_minor": 5
}
